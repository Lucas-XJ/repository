{
  "nbformat": 4,
  "nbformat_minor": 0,
  "metadata": {
    "colab": {
      "name": "Chinese_htlData_Classification_with_BERT.ipynb",
      "version": "0.3.2",
      "provenance": [],
      "collapsed_sections": [],
      "include_colab_link": true
    },
    "kernelspec": {
      "name": "python3",
      "display_name": "Python 3"
    },
    "accelerator": "GPU"
  },
  "cells": [
    {
      "cell_type": "markdown",
      "metadata": {
        "id": "view-in-github",
        "colab_type": "text"
      },
      "source": [
        "<a href=\"https://colab.research.google.com/github/ZeroLeon/Chinese_htlData_Classification_with_BERT/blob/master/Chinese_htlData_Classification_with_BERT.ipynb\" target=\"_parent\"><img src=\"https://colab.research.google.com/assets/colab-badge.svg\" alt=\"Open In Colab\"/></a>"
      ]
    },
    {
      "cell_type": "markdown",
      "metadata": {
        "id": "XqLEbsvyOjJ5",
        "colab_type": "text"
      },
      "source": [
        "#在Fastai框架下基于BERT模型的中文文本分类\n"
      ]
    },
    {
      "cell_type": "markdown",
      "metadata": {
        "id": "KdRDycJLO1qW",
        "colab_type": "text"
      },
      "source": [
        "##Preparation"
      ]
    },
    {
      "cell_type": "code",
      "metadata": {
        "id": "Yea4tylQORLi",
        "colab_type": "code",
        "colab": {}
      },
      "source": [
        "#安装pytorch下包含BERT预训练模型的库\n",
        "!pip install pytorch-pretrained-bert"
      ],
      "execution_count": 0,
      "outputs": []
    },
    {
      "cell_type": "code",
      "metadata": {
        "id": "hmikQXQAPenZ",
        "colab_type": "code",
        "colab": {}
      },
      "source": [
        "#引入必要的依赖包\n",
        "import numpy as np\n",
        "import pandas as pd\n",
        "\n",
        "from pathlib import Path\n",
        "from typing import *\n",
        "\n",
        "import torch\n",
        "import torch.optim as optim\n",
        "\n",
        "from fastai import *\n",
        "from fastai.vision import *\n",
        "from fastai.text import *\n",
        "from fastai.callbacks import *"
      ],
      "execution_count": 0,
      "outputs": []
    },
    {
      "cell_type": "code",
      "metadata": {
        "id": "uFPURKkfQATE",
        "colab_type": "code",
        "colab": {}
      },
      "source": [
        "#设置一个config类，便于参数配置与更改\n",
        "class Config(dict):\n",
        "    def __init__(self, **kwargs):\n",
        "        super().__init__(**kwargs)\n",
        "        for k, v in kwargs.items():\n",
        "            setattr(self, k, v)\n",
        "    \n",
        "    def set(self, key, val):\n",
        "        self[key] = val\n",
        "        setattr(self, key, val)\n",
        "\n",
        "config = Config(\n",
        "    testing=False,\n",
        "    bert_model_name=\"bert-base-chinese\", \n",
        "    #选用中文预训练模型：Chinese Simplified and Traditional, 12-layer, 768-hidden, 12-heads, 110M parameters\n",
        "    max_lr=3e-5,\n",
        "    epochs=1,\n",
        "    use_fp16=False, #fastai里可以方便地调整精度，加快训练速度：learner.to_fp16()\n",
        "    bs=8,\n",
        "    max_seq_len=128, #选取合适的seq_length，较大的值可能导致训练极慢报错等\n",
        ")"
      ],
      "execution_count": 0,
      "outputs": []
    },
    {
      "cell_type": "code",
      "metadata": {
        "id": "3dS1_jNESiEv",
        "colab_type": "code",
        "colab": {}
      },
      "source": [
        ""
      ],
      "execution_count": 0,
      "outputs": []
    },
    {
      "cell_type": "markdown",
      "metadata": {
        "id": "bYXEtepaSilw",
        "colab_type": "text"
      },
      "source": [
        "##Customize Tokenizer and Vocab"
      ]
    },
    {
      "cell_type": "code",
      "metadata": {
        "id": "JiKPDWViStZS",
        "colab_type": "code",
        "colab": {
          "base_uri": "https://localhost:8080/",
          "height": 34
        },
        "outputId": "3e7057eb-4b85-41a6-c79d-30c2fa61735a"
      },
      "source": [
        "#pytorch_bert包提供了BertTokenizer类，从选取的模型中提取tok\n",
        "from pytorch_pretrained_bert import BertTokenizer\n",
        "bert_tok = BertTokenizer.from_pretrained(\n",
        "    config.bert_model_name,\n",
        ")"
      ],
      "execution_count": 8,
      "outputs": [
        {
          "output_type": "stream",
          "text": [
            "100%|██████████| 109540/109540 [00:00<00:00, 4157187.61B/s]\n"
          ],
          "name": "stderr"
        }
      ]
    },
    {
      "cell_type": "markdown",
      "metadata": {
        "id": "8WHx6utjUCVs",
        "colab_type": "text"
      },
      "source": [
        "定制Tokenizer需要继承fastai的BaseTokenizer类，注意BERT会在sequence的首尾加上特殊token[CLS]和[SEP]，与fastai里的bos和eos有重合，所以在之后会有include_eos=Fasle的设置"
      ]
    },
    {
      "cell_type": "code",
      "metadata": {
        "id": "09bYVoWBT0wr",
        "colab_type": "code",
        "colab": {}
      },
      "source": [
        "class FastAiBertTokenizer(BaseTokenizer):\n",
        "    \"\"\"Wrapper around a BertTokenizer to be a BaseTokenizer in fastai\"\"\"\n",
        "    def __init__(self, tokenizer: BertTokenizer, max_seq_len: int=128, **kwargs):\n",
        "        self._pretrained_tokenizer = tokenizer\n",
        "        self.max_seq_len = max_seq_len\n",
        "\n",
        "    def __call__(self, *args, **kwargs):\n",
        "        return self\n",
        "\n",
        "    def tokenizer(self, t:str) -> List[str]:\n",
        "        \"\"\"Limits the maximum sequence length\"\"\"\n",
        "        return [\"[CLS]\"] + self._pretrained_tokenizer.tokenize(t)[:self.max_seq_len - 2] + [\"[SEP]\"]"
      ],
      "execution_count": 0,
      "outputs": []
    },
    {
      "cell_type": "code",
      "metadata": {
        "id": "0HD1qCGCVMMe",
        "colab_type": "code",
        "colab": {}
      },
      "source": [
        "#最终的tokenizer\n",
        "fastai_tokenizer = Tokenizer(\n",
        "    tok_func=FastAiBertTokenizer(bert_tok, max_seq_len=config.max_seq_len), \n",
        "    pre_rules=[], \n",
        "    post_rules=[]\n",
        ")"
      ],
      "execution_count": 0,
      "outputs": []
    },
    {
      "cell_type": "code",
      "metadata": {
        "id": "LxXk9yB1V0nB",
        "colab_type": "code",
        "colab": {
          "base_uri": "https://localhost:8080/",
          "height": 369
        },
        "outputId": "cb24389b-849a-4396-e2af-2fc8b60b0475"
      },
      "source": [
        "#check the vocab\n",
        "list(bert_tok.vocab.items())[1090:1110]"
      ],
      "execution_count": 11,
      "outputs": [
        {
          "output_type": "execute_result",
          "data": {
            "text/plain": [
              "[('冗', 1090),\n",
              " ('写', 1091),\n",
              " ('军', 1092),\n",
              " ('农', 1093),\n",
              " ('冠', 1094),\n",
              " ('冢', 1095),\n",
              " ('冤', 1096),\n",
              " ('冥', 1097),\n",
              " ('冨', 1098),\n",
              " ('冪', 1099),\n",
              " ('冬', 1100),\n",
              " ('冯', 1101),\n",
              " ('冰', 1102),\n",
              " ('冲', 1103),\n",
              " ('决', 1104),\n",
              " ('况', 1105),\n",
              " ('冶', 1106),\n",
              " ('冷', 1107),\n",
              " ('冻', 1108),\n",
              " ('冼', 1109)]"
            ]
          },
          "metadata": {
            "tags": []
          },
          "execution_count": 11
        }
      ]
    },
    {
      "cell_type": "code",
      "metadata": {
        "id": "NYIrjtkHW2F2",
        "colab_type": "code",
        "colab": {}
      },
      "source": [
        "#设置vocab\n",
        "fastai_bert_vocab = Vocab(list(bert_tok.vocab.keys()))"
      ],
      "execution_count": 0,
      "outputs": []
    },
    {
      "cell_type": "code",
      "metadata": {
        "id": "DUU3lFXrXAUw",
        "colab_type": "code",
        "colab": {}
      },
      "source": [
        ""
      ],
      "execution_count": 0,
      "outputs": []
    },
    {
      "cell_type": "markdown",
      "metadata": {
        "id": "KHfJODECXEVp",
        "colab_type": "text"
      },
      "source": [
        "##Dataset"
      ]
    },
    {
      "cell_type": "markdown",
      "metadata": {
        "id": "rwkcOhG3Uc_x",
        "colab_type": "text"
      },
      "source": [
        "本次使用的数据集信息：\n",
        "\n",
        "*   名称及出处：[ChnSentiCorp_htl_all](https://github.com/ZeroLeon/ChineseNlpCorpus/blob/master/datasets/ChnSentiCorp_htl_all/intro.ipynb)\n",
        "*   数据概览： 7000 多条酒店评论数据，5000 多条正向评论，2000 多条负向评论\n",
        "*   推荐实验： 情感/观点/评论 倾向性分析\n",
        "*   数据来源： 携程网\n",
        "*   原数据集： ChnSentiCorp_htl，由谭松波老师整理的一份数据集\n",
        "\n"
      ]
    },
    {
      "cell_type": "code",
      "metadata": {
        "id": "_4L8is6AXGB8",
        "colab_type": "code",
        "colab": {}
      },
      "source": [
        "#在colab下接入google drive，方便保存模型修改文件，使用其他kernel可跳过这一步\n",
        "from google.colab import drive\n",
        "drive.mount('/content/gdrive',force_remount = True)\n",
        "base_dir = '/content/gdrive/My Drive/fastai'\n",
        "path = Path(base_dir +'/data/htl_reviews')\n",
        "# path.mkdir(parents=True,exist_ok=True)\n",
        "os.chdir(path)"
      ],
      "execution_count": 0,
      "outputs": []
    },
    {
      "cell_type": "code",
      "metadata": {
        "id": "5gU8EtWUXRjS",
        "colab_type": "code",
        "colab": {}
      },
      "source": [
        "!wget https://github.com/SophonPlus/ChineseNlpCorpus/raw/master/datasets/ChnSentiCorp_htl_all/ChnSentiCorp_htl_all.csv"
      ],
      "execution_count": 0,
      "outputs": []
    },
    {
      "cell_type": "code",
      "metadata": {
        "id": "xk7iS5FpXngc",
        "colab_type": "code",
        "colab": {}
      },
      "source": [
        "df_htl = pd.read_csv('ChnSentiCorp_htl_fix.csv',index_col=0)"
      ],
      "execution_count": 0,
      "outputs": []
    },
    {
      "cell_type": "code",
      "metadata": {
        "id": "E7EE0A_hYS4E",
        "colab_type": "code",
        "colab": {
          "base_uri": "https://localhost:8080/",
          "height": 343
        },
        "outputId": "33fdd402-59e3-4588-eca5-ffc0c0ad85df"
      },
      "source": [
        "#标签涵义：1代表正向评论，0代表负向评论\n",
        "label_denotation = {1:'positive',0:'negative'}\n",
        "df_htl.sample(10)"
      ],
      "execution_count": 39,
      "outputs": [
        {
          "output_type": "execute_result",
          "data": {
            "text/html": [
              "<div>\n",
              "<style scoped>\n",
              "    .dataframe tbody tr th:only-of-type {\n",
              "        vertical-align: middle;\n",
              "    }\n",
              "\n",
              "    .dataframe tbody tr th {\n",
              "        vertical-align: top;\n",
              "    }\n",
              "\n",
              "    .dataframe thead th {\n",
              "        text-align: right;\n",
              "    }\n",
              "</style>\n",
              "<table border=\"1\" class=\"dataframe\">\n",
              "  <thead>\n",
              "    <tr style=\"text-align: right;\">\n",
              "      <th></th>\n",
              "      <th>label</th>\n",
              "      <th>review</th>\n",
              "    </tr>\n",
              "  </thead>\n",
              "  <tbody>\n",
              "    <tr>\n",
              "      <th>803</th>\n",
              "      <td>1</td>\n",
              "      <td>房间能观景，很好~~主要是很方便。出门就是太平洋广场，很繁华的地段</td>\n",
              "    </tr>\n",
              "    <tr>\n",
              "      <th>3675</th>\n",
              "      <td>1</td>\n",
              "      <td>酒店房间好，阳光明媚，卫生间大，可惜没享受。司机说，到拉萨第一天不要洗澡。房间空调足。好像早...</td>\n",
              "    </tr>\n",
              "    <tr>\n",
              "      <th>3539</th>\n",
              "      <td>1</td>\n",
              "      <td>房间很新，服务员水平也很高，物有所值。4楼房间太压抑，这次先进了4楼然后不满意很快换到10楼...</td>\n",
              "    </tr>\n",
              "    <tr>\n",
              "      <th>6772</th>\n",
              "      <td>0</td>\n",
              "      <td>酒店实在太差了,房间隔音极差,北塔挨着迪吧，快曲放到半夜3点；换到南塔，又挨着KTV音乐响到...</td>\n",
              "    </tr>\n",
              "    <tr>\n",
              "      <th>2431</th>\n",
              "      <td>1</td>\n",
              "      <td>交通方便，对面就是国美电器。出入的车辆比较多，又刚好处于路口，所以有点混乱。5楼可以喝晚茶，...</td>\n",
              "    </tr>\n",
              "    <tr>\n",
              "      <th>6511</th>\n",
              "      <td>0</td>\n",
              "      <td>Thepositionofthishotelisverybad.补充点评2008年4月6日：...</td>\n",
              "    </tr>\n",
              "    <tr>\n",
              "      <th>3634</th>\n",
              "      <td>1</td>\n",
              "      <td>酒店自动把房间升级成套房，不错，赞一下！但服务人员未免太自说自话，送水果也不能未经同意就自己...</td>\n",
              "    </tr>\n",
              "    <tr>\n",
              "      <th>5374</th>\n",
              "      <td>0</td>\n",
              "      <td>我感觉不行。。。性价比很差。不知道是银川都这样还是怎么的！</td>\n",
              "    </tr>\n",
              "    <tr>\n",
              "      <th>1926</th>\n",
              "      <td>1</td>\n",
              "      <td>角房太冷了，tnnd。角房太冷了，tnnd。角房太冷了，tnnd。</td>\n",
              "    </tr>\n",
              "    <tr>\n",
              "      <th>7087</th>\n",
              "      <td>0</td>\n",
              "      <td>设施非常旧，周边环境也不好，最奇怪是房间内没有暖气，只有挂壁空调，要知道，这种空调室外-5度...</td>\n",
              "    </tr>\n",
              "  </tbody>\n",
              "</table>\n",
              "</div>"
            ],
            "text/plain": [
              "      label                                             review\n",
              "803       1                  房间能观景，很好~~主要是很方便。出门就是太平洋广场，很繁华的地段\n",
              "3675      1  酒店房间好，阳光明媚，卫生间大，可惜没享受。司机说，到拉萨第一天不要洗澡。房间空调足。好像早...\n",
              "3539      1  房间很新，服务员水平也很高，物有所值。4楼房间太压抑，这次先进了4楼然后不满意很快换到10楼...\n",
              "6772      0  酒店实在太差了,房间隔音极差,北塔挨着迪吧，快曲放到半夜3点；换到南塔，又挨着KTV音乐响到...\n",
              "2431      1  交通方便，对面就是国美电器。出入的车辆比较多，又刚好处于路口，所以有点混乱。5楼可以喝晚茶，...\n",
              "6511      0  Thepositionofthishotelisverybad.补充点评2008年4月6日：...\n",
              "3634      1  酒店自动把房间升级成套房，不错，赞一下！但服务人员未免太自说自话，送水果也不能未经同意就自己...\n",
              "5374      0                      我感觉不行。。。性价比很差。不知道是银川都这样还是怎么的！\n",
              "1926      1                  角房太冷了，tnnd。角房太冷了，tnnd。角房太冷了，tnnd。\n",
              "7087      0  设施非常旧，周边环境也不好，最奇怪是房间内没有暖气，只有挂壁空调，要知道，这种空调室外-5度..."
            ]
          },
          "metadata": {
            "tags": []
          },
          "execution_count": 39
        }
      ]
    },
    {
      "cell_type": "code",
      "metadata": {
        "id": "LKBd5hlzYUkr",
        "colab_type": "code",
        "colab": {}
      },
      "source": [
        "#分割训练集train与验证集val\n",
        "from sklearn.model_selection import train_test_split\n",
        "\n",
        "train, val = train_test_split(df_htl)"
      ],
      "execution_count": 0,
      "outputs": []
    },
    {
      "cell_type": "code",
      "metadata": {
        "id": "N69Q-7GjZzxq",
        "colab_type": "code",
        "colab": {
          "base_uri": "https://localhost:8080/",
          "height": 34
        },
        "outputId": "45f15c1c-9bd8-4f1f-8af1-a729e78f3f8b"
      },
      "source": [
        "#check their size\n",
        "print(train.shape,val.shape)"
      ],
      "execution_count": 41,
      "outputs": [
        {
          "output_type": "stream",
          "text": [
            "(5823, 2) (1942, 2)\n"
          ],
          "name": "stdout"
        }
      ]
    },
    {
      "cell_type": "code",
      "metadata": {
        "id": "GWq0P4LnaL9M",
        "colab_type": "code",
        "colab": {}
      },
      "source": [
        "#建立TextDataBunch\n",
        "databunch = TextClasDataBunch.from_df(\".\", train, val,\n",
        "                  tokenizer=fastai_tokenizer,\n",
        "                  vocab=fastai_bert_vocab,\n",
        "                  include_bos=False,\n",
        "                  include_eos=False,\n",
        "                  text_cols=\"review\",\n",
        "                  label_cols='label',\n",
        "                  bs=config.bs,\n",
        "                  collate_fn=partial(pad_collate, pad_first=False, pad_idx=0),\n",
        "             )"
      ],
      "execution_count": 0,
      "outputs": []
    },
    {
      "cell_type": "code",
      "metadata": {
        "id": "2EtfF2hrfFQw",
        "colab_type": "code",
        "colab": {
          "base_uri": "https://localhost:8080/",
          "height": 279
        },
        "outputId": "c27831b3-a7c9-452b-dcfa-e469cd361f73"
      },
      "source": [
        "databunch.show_batch()"
      ],
      "execution_count": 43,
      "outputs": [
        {
          "output_type": "display_data",
          "data": {
            "text/html": [
              "<table border=\"1\" class=\"dataframe\">\n",
              "  <thead>\n",
              "    <tr style=\"text-align: right;\">\n",
              "      <th>text</th>\n",
              "      <th>target</th>\n",
              "    </tr>\n",
              "  </thead>\n",
              "  <tbody>\n",
              "    <tr>\n",
              "      <td>[CLS] 51 还 是 选 择 了 这 里 ， 因 为 贵 的 太 贵 ， 好 的 都 定 满 了 。 在 51 小 黄 金 288 元 的 价 格 是 属 于 便 宜 的 ， 之 前 打 电 话 去 游 记 中 有 人 写 到 的 枫 枫 旅 行 社 ， 一 个 私 人 开 的 小 旅 馆</td>\n",
              "      <td>1</td>\n",
              "    </tr>\n",
              "    <tr>\n",
              "      <td>[CLS] 洲 际 酒 店 ， 携 程 的 价 格 确 实 有 竞 争 力 。 应 该 是 沈 阳 最 便 宜 的 五 星 级 酒 店 。 1 ） 地 理 位 置 ： 位 于 商 业 街 太 原 街 附 近 ， 交 通 方 便 ， 但 门 口 老 是 堵 车 ， 建 议 打 车 的 话</td>\n",
              "      <td>1</td>\n",
              "    </tr>\n",
              "    <tr>\n",
              "      <td>[CLS] 这 次 到 莫 干 山 自 驾 游 ， 住 在 德 清 县 的 这 个 酒 店 里 。 先 说 说 好 的 方 面 ， 酒 店 的 地 理 位 置 不 错 ， 紧 邻 免 费 开 放 的 春 晖 公 园 。 开 车 到 莫 干 山 有 两 条 路 ， 大 约 40 分 钟 。</td>\n",
              "      <td>1</td>\n",
              "    </tr>\n",
              "    <tr>\n",
              "      <td>[CLS] 一 般 。 除 了 便 宜 。 一 个 大 问 题 就 是 浴 缸 的 设 计 有 问 题 ， 洗 澡 的 时 候 溅 出 的 水 会 顺 着 浴 缸 靠 墙 那 边 的 平 面 一 直 流 到 外 面 的 地 上 。 等 洗 完 之 后 ， 浴 室 里 已 经 是 水 漫</td>\n",
              "      <td>0</td>\n",
              "    </tr>\n",
              "    <tr>\n",
              "      <td>[CLS] 凌 晨 近 二 点 到 店 ， 就 我 一 个 客 人 在 前 台 办 手 续 ， 办 了 十 分 钟 才 办 好 ， 更 郁 闷 的 是 酒 店 竟 然 开 了 一 个 没 有 打 扫 过 的 房 间 给 我 ， 房 号 46 ##3 ， 住 了 这 么 多 年 的 酒 店 还</td>\n",
              "      <td>0</td>\n",
              "    </tr>\n",
              "  </tbody>\n",
              "</table>"
            ],
            "text/plain": [
              "<IPython.core.display.HTML object>"
            ]
          },
          "metadata": {
            "tags": []
          }
        }
      ]
    },
    {
      "cell_type": "code",
      "metadata": {
        "id": "EWFDIeoJbgfb",
        "colab_type": "code",
        "colab": {}
      },
      "source": [
        ""
      ],
      "execution_count": 0,
      "outputs": []
    },
    {
      "cell_type": "markdown",
      "metadata": {
        "id": "CZ4lw8TadPMS",
        "colab_type": "text"
      },
      "source": [
        "##Model and Loss Function"
      ]
    },
    {
      "cell_type": "code",
      "metadata": {
        "id": "6CLYlVWYdQlH",
        "colab_type": "code",
        "colab": {
          "base_uri": "https://localhost:8080/",
          "height": 34
        },
        "outputId": "b58a66da-0dd6-4d17-e51d-ad16bd0cf1c1"
      },
      "source": [
        "from pytorch_pretrained_bert.modeling import BertConfig, BertForSequenceClassification\n",
        "bert_model = BertForSequenceClassification.from_pretrained(config.bert_model_name, num_labels=2)"
      ],
      "execution_count": 44,
      "outputs": [
        {
          "output_type": "stream",
          "text": [
            "100%|██████████| 382072689/382072689 [00:07<00:00, 48731570.08B/s]\n"
          ],
          "name": "stderr"
        }
      ]
    },
    {
      "cell_type": "code",
      "metadata": {
        "id": "xyaJ7ooIdhvq",
        "colab_type": "code",
        "colab": {}
      },
      "source": [
        "#二分类问题选用CrossEntrypyLoss作为损失函数\n",
        "loss_func = nn.CrossEntropyLoss()"
      ],
      "execution_count": 0,
      "outputs": []
    },
    {
      "cell_type": "code",
      "metadata": {
        "id": "oN47kdZ-d69i",
        "colab_type": "code",
        "colab": {}
      },
      "source": [
        "#建立Learner(数据,预训练模型,损失函数)\n",
        "learner = Learner(databunch, bert_model,loss_func=loss_func,metrics=accuracy)"
      ],
      "execution_count": 0,
      "outputs": []
    },
    {
      "cell_type": "code",
      "metadata": {
        "id": "VhCBr5YyeYQz",
        "colab_type": "code",
        "colab": {
          "base_uri": "https://localhost:8080/",
          "height": 34
        },
        "outputId": "cbf4de65-dc42-479e-f258-3d19af52a24e"
      },
      "source": [
        "#尝试寻找合适的最大学习率，这里使用了BERT原论文推荐的学习率3e-5作为默认值\n",
        "learner.lr_find()"
      ],
      "execution_count": 47,
      "outputs": [
        {
          "output_type": "display_data",
          "data": {
            "text/html": [
              ""
            ],
            "text/plain": [
              "<IPython.core.display.HTML object>"
            ]
          },
          "metadata": {
            "tags": []
          }
        },
        {
          "output_type": "stream",
          "text": [
            "LR Finder is complete, type {learner_name}.recorder.plot() to see the graph.\n"
          ],
          "name": "stdout"
        }
      ]
    },
    {
      "cell_type": "code",
      "metadata": {
        "id": "qj9hzFd0efEx",
        "colab_type": "code",
        "colab": {
          "base_uri": "https://localhost:8080/",
          "height": 283
        },
        "outputId": "dee9db99-5783-400a-c20f-a33f098af923"
      },
      "source": [
        "learner.recorder.plot(skip_end=20)"
      ],
      "execution_count": 49,
      "outputs": [
        {
          "output_type": "display_data",
          "data": {
            "image/png": "[encoded data removed]",
            "text/plain": [
              "<Figure size 432x288 with 1 Axes>"
            ]
          },
          "metadata": {
            "tags": []
          }
        }
      ]
    },
    {
      "cell_type": "code",
      "metadata": {
        "id": "2C9Jwn7KemDB",
        "colab_type": "code",
        "colab": {
          "base_uri": "https://localhost:8080/",
          "height": 77
        },
        "outputId": "a1fef34d-5ae6-4083-d81c-467015066ad0"
      },
      "source": [
        "#开始训练\n",
        "learner.fit_one_cycle(config.epochs, max_lr=config.max_lr)"
      ],
      "execution_count": 50,
      "outputs": [
        {
          "output_type": "display_data",
          "data": {
            "text/html": [
              "<table border=\"1\" class=\"dataframe\">\n",
              "  <thead>\n",
              "    <tr style=\"text-align: left;\">\n",
              "      <th>epoch</th>\n",
              "      <th>train_loss</th>\n",
              "      <th>valid_loss</th>\n",
              "      <th>accuracy</th>\n",
              "      <th>time</th>\n",
              "    </tr>\n",
              "  </thead>\n",
              "  <tbody>\n",
              "    <tr>\n",
              "      <td>0</td>\n",
              "      <td>0.271018</td>\n",
              "      <td>0.230581</td>\n",
              "      <td>0.902163</td>\n",
              "      <td>04:43</td>\n",
              "    </tr>\n",
              "  </tbody>\n",
              "</table>"
            ],
            "text/plain": [
              "<IPython.core.display.HTML object>"
            ]
          },
          "metadata": {
            "tags": []
          }
        }
      ]
    },
    {
      "cell_type": "code",
      "metadata": {
        "id": "HUwZtDWCfZVz",
        "colab_type": "code",
        "colab": {}
      },
      "source": [
        "learner.save(path/'htl_stage1')"
      ],
      "execution_count": 0,
      "outputs": []
    },
    {
      "cell_type": "code",
      "metadata": {
        "id": "VpOPW9I2g6EE",
        "colab_type": "code",
        "colab": {
          "base_uri": "https://localhost:8080/",
          "height": 34
        },
        "outputId": "14049579-d2a1-4d55-d83b-918221c92436"
      },
      "source": [
        "#用样例测试下\n",
        "learner.predict(\"设施老化，紧靠马路噪音太大，晚上楼上卫生间的水流声和空调噪音非常大，无法入眠\")"
      ],
      "execution_count": 53,
      "outputs": [
        {
          "output_type": "execute_result",
          "data": {
            "text/plain": [
              "(Category 0, tensor(0), tensor([0.9943, 0.0057]))"
            ]
          },
          "metadata": {
            "tags": []
          },
          "execution_count": 53
        }
      ]
    },
    {
      "cell_type": "markdown",
      "metadata": {
        "id": "ODpG2dLcg5BG",
        "colab_type": "text"
      },
      "source": [
        "##What's Next?"
      ]
    },
    {
      "cell_type": "markdown",
      "metadata": {
        "id": "WgP6BrY3hGZH",
        "colab_type": "text"
      },
      "source": [
        "本次task属于二元文本分类，数据集并不大，同时有相当一部分数据属于正负向情感混合的文本，容易拉低准确度，因此结果表现没那么抢眼，只能略窥BERT的强大。下一步计划使用更大的数据集做中文文本多标签分类，输出模型制作成一个能自动给文本打上情感标签的应用。"
      ]
    }
  ]
}